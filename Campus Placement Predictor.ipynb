{
 "cells": [
  {
   "cell_type": "code",
   "execution_count": 1,
   "metadata": {},
   "outputs": [],
   "source": [
    "import numpy as np\n",
    "import matplotlib.pyplot as plt\n",
    "import pandas as pd"
   ]
  },
  {
   "cell_type": "code",
   "execution_count": 125,
   "metadata": {},
   "outputs": [
    {
     "data": {
      "text/html": [
       "<div>\n",
       "<style scoped>\n",
       "    .dataframe tbody tr th:only-of-type {\n",
       "        vertical-align: middle;\n",
       "    }\n",
       "\n",
       "    .dataframe tbody tr th {\n",
       "        vertical-align: top;\n",
       "    }\n",
       "\n",
       "    .dataframe thead th {\n",
       "        text-align: right;\n",
       "    }\n",
       "</style>\n",
       "<table border=\"1\" class=\"dataframe\">\n",
       "  <thead>\n",
       "    <tr style=\"text-align: right;\">\n",
       "      <th></th>\n",
       "      <th>sl_no</th>\n",
       "      <th>gender</th>\n",
       "      <th>ssc_p</th>\n",
       "      <th>ssc_b</th>\n",
       "      <th>hsc_p</th>\n",
       "      <th>hsc_b</th>\n",
       "      <th>hsc_s</th>\n",
       "      <th>degree_p</th>\n",
       "      <th>degree_t</th>\n",
       "      <th>workex</th>\n",
       "      <th>etest_p</th>\n",
       "      <th>specialisation</th>\n",
       "      <th>mba_p</th>\n",
       "      <th>status</th>\n",
       "      <th>salary</th>\n",
       "    </tr>\n",
       "  </thead>\n",
       "  <tbody>\n",
       "    <tr>\n",
       "      <th>0</th>\n",
       "      <td>1</td>\n",
       "      <td>M</td>\n",
       "      <td>67.00</td>\n",
       "      <td>Others</td>\n",
       "      <td>91.00</td>\n",
       "      <td>Others</td>\n",
       "      <td>Commerce</td>\n",
       "      <td>58.00</td>\n",
       "      <td>Sci&amp;Tech</td>\n",
       "      <td>No</td>\n",
       "      <td>55.0</td>\n",
       "      <td>Mkt&amp;HR</td>\n",
       "      <td>58.80</td>\n",
       "      <td>Placed</td>\n",
       "      <td>270000.0</td>\n",
       "    </tr>\n",
       "    <tr>\n",
       "      <th>1</th>\n",
       "      <td>2</td>\n",
       "      <td>M</td>\n",
       "      <td>79.33</td>\n",
       "      <td>Central</td>\n",
       "      <td>78.33</td>\n",
       "      <td>Others</td>\n",
       "      <td>Science</td>\n",
       "      <td>77.48</td>\n",
       "      <td>Sci&amp;Tech</td>\n",
       "      <td>Yes</td>\n",
       "      <td>86.5</td>\n",
       "      <td>Mkt&amp;Fin</td>\n",
       "      <td>66.28</td>\n",
       "      <td>Placed</td>\n",
       "      <td>200000.0</td>\n",
       "    </tr>\n",
       "    <tr>\n",
       "      <th>2</th>\n",
       "      <td>3</td>\n",
       "      <td>M</td>\n",
       "      <td>65.00</td>\n",
       "      <td>Central</td>\n",
       "      <td>68.00</td>\n",
       "      <td>Central</td>\n",
       "      <td>Arts</td>\n",
       "      <td>64.00</td>\n",
       "      <td>Comm&amp;Mgmt</td>\n",
       "      <td>No</td>\n",
       "      <td>75.0</td>\n",
       "      <td>Mkt&amp;Fin</td>\n",
       "      <td>57.80</td>\n",
       "      <td>Placed</td>\n",
       "      <td>250000.0</td>\n",
       "    </tr>\n",
       "    <tr>\n",
       "      <th>3</th>\n",
       "      <td>4</td>\n",
       "      <td>M</td>\n",
       "      <td>56.00</td>\n",
       "      <td>Central</td>\n",
       "      <td>52.00</td>\n",
       "      <td>Central</td>\n",
       "      <td>Science</td>\n",
       "      <td>52.00</td>\n",
       "      <td>Sci&amp;Tech</td>\n",
       "      <td>No</td>\n",
       "      <td>66.0</td>\n",
       "      <td>Mkt&amp;HR</td>\n",
       "      <td>59.43</td>\n",
       "      <td>Not Placed</td>\n",
       "      <td>NaN</td>\n",
       "    </tr>\n",
       "    <tr>\n",
       "      <th>4</th>\n",
       "      <td>5</td>\n",
       "      <td>M</td>\n",
       "      <td>85.80</td>\n",
       "      <td>Central</td>\n",
       "      <td>73.60</td>\n",
       "      <td>Central</td>\n",
       "      <td>Commerce</td>\n",
       "      <td>73.30</td>\n",
       "      <td>Comm&amp;Mgmt</td>\n",
       "      <td>No</td>\n",
       "      <td>96.8</td>\n",
       "      <td>Mkt&amp;Fin</td>\n",
       "      <td>55.50</td>\n",
       "      <td>Placed</td>\n",
       "      <td>425000.0</td>\n",
       "    </tr>\n",
       "  </tbody>\n",
       "</table>\n",
       "</div>"
      ],
      "text/plain": [
       "   sl_no gender  ssc_p    ssc_b  hsc_p    hsc_b     hsc_s  degree_p  \\\n",
       "0      1      M  67.00   Others  91.00   Others  Commerce     58.00   \n",
       "1      2      M  79.33  Central  78.33   Others   Science     77.48   \n",
       "2      3      M  65.00  Central  68.00  Central      Arts     64.00   \n",
       "3      4      M  56.00  Central  52.00  Central   Science     52.00   \n",
       "4      5      M  85.80  Central  73.60  Central  Commerce     73.30   \n",
       "\n",
       "    degree_t workex  etest_p specialisation  mba_p      status    salary  \n",
       "0   Sci&Tech     No     55.0         Mkt&HR  58.80      Placed  270000.0  \n",
       "1   Sci&Tech    Yes     86.5        Mkt&Fin  66.28      Placed  200000.0  \n",
       "2  Comm&Mgmt     No     75.0        Mkt&Fin  57.80      Placed  250000.0  \n",
       "3   Sci&Tech     No     66.0         Mkt&HR  59.43  Not Placed       NaN  \n",
       "4  Comm&Mgmt     No     96.8        Mkt&Fin  55.50      Placed  425000.0  "
      ]
     },
     "execution_count": 125,
     "metadata": {},
     "output_type": "execute_result"
    }
   ],
   "source": [
    "dataset = pd.read_csv('Placement_Data_Full_Class.csv')"
   ]
  },
  {
   "cell_type": "code",
   "execution_count": 110,
   "metadata": {},
   "outputs": [
    {
     "data": {
      "text/plain": [
       "array([1, 0])"
      ]
     },
     "execution_count": 110,
     "metadata": {},
     "output_type": "execute_result"
    }
   ],
   "source": [
    "from sklearn import preprocessing\n",
    "label_encoder = preprocessing.LabelEncoder() \n",
    "dataset['gender']= label_encoder.fit_transform(dataset['gender']) \n",
    "dataset['gender'].unique() \n",
    "\n",
    "dataset['ssc_b']= label_encoder.fit_transform(dataset['ssc_b']) \n",
    "dataset['ssc_b'].unique() \n",
    "\n",
    "dataset['hsc_b']= label_encoder.fit_transform(dataset['hsc_b']) \n",
    "dataset['hsc_b'].unique() \n",
    "\n",
    "dataset['hsc_s']= label_encoder.fit_transform(dataset['hsc_s']) \n",
    "dataset['hsc_s'].unique() \n",
    "\n",
    "dataset['degree_t']= label_encoder.fit_transform(dataset['degree_t']) \n",
    "dataset['degree_t'].unique() \n",
    "\n",
    "dataset['workex']= label_encoder.fit_transform(dataset['workex']) \n",
    "dataset['workex'].unique() \n",
    "\n",
    "dataset['specialisation']= label_encoder.fit_transform(dataset['specialisation']) \n",
    "dataset['specialisation'].unique() \n",
    "\n",
    "dataset['status']= label_encoder.fit_transform(dataset['status']) \n",
    "dataset['status'].unique()"
   ]
  },
  {
   "cell_type": "code",
   "execution_count": 111,
   "metadata": {},
   "outputs": [
    {
     "data": {
      "text/plain": [
       "array([[ 1.  , 67.  ,  1.  , ..., 55.  ,  1.  , 58.8 ],\n",
       "       [ 1.  , 79.33,  0.  , ..., 86.5 ,  0.  , 66.28],\n",
       "       [ 1.  , 65.  ,  0.  , ..., 75.  ,  0.  , 57.8 ],\n",
       "       ...,\n",
       "       [ 1.  , 67.  ,  1.  , ..., 59.  ,  0.  , 69.72],\n",
       "       [ 0.  , 74.  ,  1.  , ..., 70.  ,  1.  , 60.23],\n",
       "       [ 1.  , 62.  ,  0.  , ..., 89.  ,  1.  , 60.22]])"
      ]
     },
     "execution_count": 111,
     "metadata": {},
     "output_type": "execute_result"
    }
   ],
   "source": [
    "x = dataset.iloc[:, 1:13].values"
   ]
  },
  {
   "cell_type": "code",
   "execution_count": 112,
   "metadata": {},
   "outputs": [
    {
     "data": {
      "text/plain": [
       "array([1, 1, 1, 0, 1, 0, 0, 1, 1, 0, 1, 1, 0, 1, 0, 1, 1, 0, 0, 1, 1, 1,\n",
       "       1, 1, 1, 0, 1, 1, 1, 0, 1, 0, 1, 1, 0, 1, 0, 1, 1, 1, 1, 0, 0, 1,\n",
       "       1, 0, 0, 1, 1, 0, 1, 0, 0, 1, 1, 1, 1, 1, 1, 1, 1, 1, 1, 0, 1, 0,\n",
       "       1, 1, 0, 1, 1, 1, 1, 1, 1, 0, 1, 1, 1, 0, 1, 1, 0, 1, 1, 1, 1, 0,\n",
       "       1, 1, 1, 0, 1, 0, 1, 1, 1, 0, 1, 0, 0, 1, 1, 1, 1, 0, 0, 1, 1, 0,\n",
       "       1, 0, 1, 1, 1, 1, 1, 1, 1, 1, 0, 1, 1, 1, 1, 1, 1, 1, 1, 1, 0, 1,\n",
       "       1, 1, 1, 1, 0, 1, 1, 1, 1, 0, 1, 1, 0, 1, 1, 1, 1, 0, 1, 1, 1, 1,\n",
       "       1, 0, 1, 1, 0, 0, 1, 0, 1, 1, 1, 0, 1, 0, 0, 0, 0, 1, 1, 0, 1, 0,\n",
       "       1, 1, 1, 0, 1, 0, 0, 1, 0, 1, 0, 1, 0, 0, 0, 1, 1, 1, 0, 1, 1, 1,\n",
       "       0, 1, 1, 0, 1, 1, 1, 1, 0, 1, 0, 1, 1, 1, 1, 1, 0])"
      ]
     },
     "execution_count": 112,
     "metadata": {},
     "output_type": "execute_result"
    }
   ],
   "source": [
    "y=dataset.iloc[:,13].values\n",
    "y"
   ]
  },
  {
   "cell_type": "code",
   "execution_count": 113,
   "metadata": {},
   "outputs": [],
   "source": [
    "from sklearn.model_selection import train_test_split\n",
    "x_train, x_test, y_train, y_test = train_test_split(x, y, test_size = 0.25, random_state = 1)"
   ]
  },
  {
   "cell_type": "code",
   "execution_count": 114,
   "metadata": {},
   "outputs": [
    {
     "data": {
      "text/plain": [
       "array([[ 0.  , 63.4 ,  1.  , ..., 58.06,  1.  , 69.28],\n",
       "       [ 0.  , 85.  ,  1.  , ..., 92.  ,  0.  , 68.03],\n",
       "       [ 0.  , 43.  ,  0.  , ..., 92.66,  1.  , 62.92],\n",
       "       ...,\n",
       "       [ 1.  , 84.86,  1.  , ..., 95.5 ,  0.  , 68.53],\n",
       "       [ 1.  , 65.  ,  0.  , ..., 56.  ,  0.  , 56.94],\n",
       "       [ 0.  , 79.  ,  0.  , ..., 58.  ,  1.  , 55.47]])"
      ]
     },
     "execution_count": 114,
     "metadata": {},
     "output_type": "execute_result"
    }
   ],
   "source": [
    "x_train"
   ]
  },
  {
   "cell_type": "code",
   "execution_count": 115,
   "metadata": {},
   "outputs": [
    {
     "data": {
      "text/plain": [
       "array([[ 1.  , 61.  ,  0.  , 82.  ,  0.  ,  1.  , 69.  ,  0.  ,  0.  ,\n",
       "        84.  ,  0.  , 58.31],\n",
       "       [ 1.  , 83.33,  0.  , 78.  ,  1.  ,  1.  , 61.  ,  0.  ,  1.  ,\n",
       "        88.56,  0.  , 71.55],\n",
       "       [ 1.  , 61.08,  1.  , 50.  ,  1.  ,  2.  , 54.  ,  2.  ,  0.  ,\n",
       "        71.  ,  0.  , 65.69],\n",
       "       [ 1.  , 82.  ,  1.  , 90.  ,  1.  ,  1.  , 83.  ,  0.  ,  0.  ,\n",
       "        80.  ,  1.  , 73.52],\n",
       "       [ 1.  , 54.4 ,  0.  , 61.12,  0.  ,  1.  , 56.2 ,  0.  ,  0.  ,\n",
       "        67.  ,  1.  , 62.65],\n",
       "       [ 0.  , 87.  ,  1.  , 65.  ,  1.  ,  2.  , 81.  ,  0.  ,  1.  ,\n",
       "        88.  ,  0.  , 72.78],\n",
       "       [ 1.  , 52.6 ,  0.  , 65.58,  1.  ,  2.  , 72.11,  2.  ,  0.  ,\n",
       "        57.6 ,  0.  , 56.66],\n",
       "       [ 0.  , 75.4 ,  1.  , 60.5 ,  0.  ,  2.  , 84.  ,  2.  ,  0.  ,\n",
       "        98.  ,  0.  , 65.25],\n",
       "       [ 1.  , 85.8 ,  0.  , 73.6 ,  0.  ,  1.  , 73.3 ,  0.  ,  0.  ,\n",
       "        96.8 ,  0.  , 55.5 ],\n",
       "       [ 0.  , 67.  ,  0.  , 53.  ,  0.  ,  2.  , 65.  ,  2.  ,  0.  ,\n",
       "        64.  ,  1.  , 58.32],\n",
       "       [ 1.  , 76.  ,  0.  , 80.  ,  0.  ,  2.  , 78.  ,  2.  ,  1.  ,\n",
       "        97.  ,  1.  , 70.48],\n",
       "       [ 1.  , 81.  ,  1.  , 68.  ,  1.  ,  2.  , 64.  ,  2.  ,  0.  ,\n",
       "        93.  ,  0.  , 62.56],\n",
       "       [ 1.  , 52.  ,  0.  , 62.  ,  0.  ,  1.  , 54.  ,  0.  ,  0.  ,\n",
       "        72.  ,  1.  , 55.41],\n",
       "       [ 1.  , 73.  ,  0.  , 73.  ,  0.  ,  2.  , 66.  ,  2.  ,  1.  ,\n",
       "        70.  ,  0.  , 68.07],\n",
       "       [ 1.  , 55.6 ,  1.  , 51.  ,  1.  ,  1.  , 57.5 ,  0.  ,  0.  ,\n",
       "        57.63,  1.  , 62.72],\n",
       "       [ 1.  , 58.  ,  1.  , 61.  ,  1.  ,  1.  , 61.  ,  0.  ,  0.  ,\n",
       "        58.  ,  1.  , 53.94],\n",
       "       [ 1.  , 58.  ,  0.  , 62.  ,  0.  ,  1.  , 64.  ,  0.  ,  0.  ,\n",
       "        53.88,  0.  , 54.97],\n",
       "       [ 0.  , 70.5 ,  0.  , 62.5 ,  1.  ,  1.  , 61.  ,  0.  ,  0.  ,\n",
       "        93.91,  0.  , 69.03],\n",
       "       [ 1.  , 65.  ,  0.  , 65.  ,  0.  ,  1.  , 75.  ,  0.  ,  0.  ,\n",
       "        83.  ,  0.  , 58.87],\n",
       "       [ 0.  , 73.  ,  1.  , 58.  ,  1.  ,  2.  , 66.  ,  0.  ,  0.  ,\n",
       "        53.7 ,  1.  , 56.86],\n",
       "       [ 0.  , 77.  ,  1.  , 73.  ,  1.  ,  1.  , 81.  ,  0.  ,  1.  ,\n",
       "        89.  ,  0.  , 69.7 ],\n",
       "       [ 1.  , 69.  ,  1.  , 60.  ,  1.  ,  1.  , 65.  ,  0.  ,  0.  ,\n",
       "        87.55,  0.  , 52.81],\n",
       "       [ 1.  , 70.  ,  0.  , 63.  ,  1.  ,  2.  , 70.  ,  2.  ,  1.  ,\n",
       "        55.  ,  0.  , 62.  ],\n",
       "       [ 0.  , 63.  ,  0.  , 66.  ,  0.  ,  1.  , 64.  ,  0.  ,  0.  ,\n",
       "        68.  ,  1.  , 64.08],\n",
       "       [ 1.  , 67.  ,  1.  , 63.  ,  1.  ,  2.  , 64.  ,  2.  ,  0.  ,\n",
       "        60.  ,  0.  , 61.87],\n",
       "       [ 0.  , 69.  ,  0.  , 78.  ,  0.  ,  1.  , 72.  ,  0.  ,  0.  ,\n",
       "        71.  ,  1.  , 62.74],\n",
       "       [ 1.  , 64.6 ,  0.  , 83.83,  1.  ,  1.  , 71.72,  0.  ,  0.  ,\n",
       "        86.  ,  0.  , 59.75],\n",
       "       [ 0.  , 66.5 ,  0.  , 66.8 ,  0.  ,  0.  , 69.3 ,  0.  ,  1.  ,\n",
       "        80.4 ,  0.  , 71.  ],\n",
       "       [ 1.  , 60.  ,  1.  , 67.  ,  1.  ,  0.  , 70.  ,  0.  ,  1.  ,\n",
       "        50.48,  0.  , 77.89],\n",
       "       [ 0.  , 86.5 ,  1.  , 64.2 ,  1.  ,  2.  , 67.4 ,  2.  ,  0.  ,\n",
       "        59.  ,  0.  , 59.69],\n",
       "       [ 1.  , 59.96,  1.  , 42.16,  1.  ,  2.  , 61.26,  2.  ,  0.  ,\n",
       "        54.48,  1.  , 65.48],\n",
       "       [ 1.  , 62.  ,  0.  , 60.33,  1.  ,  2.  , 64.21,  2.  ,  0.  ,\n",
       "        63.  ,  1.  , 60.02],\n",
       "       [ 1.  , 62.  ,  1.  , 51.  ,  1.  ,  2.  , 52.  ,  1.  ,  0.  ,\n",
       "        68.44,  1.  , 62.77],\n",
       "       [ 1.  , 69.6 ,  0.  , 68.4 ,  0.  ,  1.  , 78.3 ,  0.  ,  1.  ,\n",
       "        60.  ,  0.  , 63.7 ],\n",
       "       [ 1.  , 62.  ,  0.  , 67.  ,  0.  ,  1.  , 58.  ,  0.  ,  0.  ,\n",
       "        77.  ,  0.  , 51.29],\n",
       "       [ 1.  , 67.  ,  1.  , 91.  ,  1.  ,  1.  , 58.  ,  2.  ,  0.  ,\n",
       "        55.  ,  1.  , 58.8 ],\n",
       "       [ 1.  , 52.  ,  0.  , 49.  ,  1.  ,  1.  , 58.  ,  0.  ,  0.  ,\n",
       "        62.  ,  1.  , 60.59],\n",
       "       [ 0.  , 77.  ,  0.  , 86.  ,  0.  ,  0.  , 56.  ,  1.  ,  0.  ,\n",
       "        57.  ,  0.  , 64.08],\n",
       "       [ 1.  , 62.  ,  0.  , 65.  ,  1.  ,  1.  , 60.  ,  0.  ,  0.  ,\n",
       "        84.  ,  0.  , 64.15],\n",
       "       [ 1.  , 76.76,  1.  , 76.5 ,  1.  ,  1.  , 67.5 ,  0.  ,  1.  ,\n",
       "        73.35,  0.  , 64.15],\n",
       "       [ 1.  , 63.  ,  0.  , 66.2 ,  0.  ,  1.  , 65.6 ,  0.  ,  1.  ,\n",
       "        60.  ,  0.  , 62.54],\n",
       "       [ 0.  , 67.  ,  0.  , 70.  ,  0.  ,  1.  , 65.  ,  1.  ,  0.  ,\n",
       "        88.  ,  1.  , 71.96],\n",
       "       [ 1.  , 66.  ,  0.  , 76.  ,  0.  ,  1.  , 72.  ,  0.  ,  1.  ,\n",
       "        84.  ,  1.  , 58.95],\n",
       "       [ 1.  , 63.  ,  0.  , 60.  ,  0.  ,  1.  , 57.  ,  0.  ,  1.  ,\n",
       "        78.  ,  0.  , 54.55],\n",
       "       [ 1.  , 70.  ,  0.  , 63.  ,  0.  ,  2.  , 66.  ,  2.  ,  0.  ,\n",
       "        61.28,  1.  , 60.11],\n",
       "       [ 1.  , 63.  ,  1.  , 67.  ,  1.  ,  1.  , 66.  ,  0.  ,  0.  ,\n",
       "        68.  ,  1.  , 57.69],\n",
       "       [ 1.  , 74.  ,  0.  , 62.  ,  1.  ,  2.  , 68.  ,  0.  ,  0.  ,\n",
       "        74.  ,  0.  , 57.99],\n",
       "       [ 0.  , 78.  ,  0.  , 77.  ,  1.  ,  1.  , 80.  ,  0.  ,  0.  ,\n",
       "        60.  ,  0.  , 66.72],\n",
       "       [ 1.  , 77.67,  1.  , 64.89,  1.  ,  1.  , 70.67,  0.  ,  0.  ,\n",
       "        89.  ,  0.  , 60.39],\n",
       "       [ 1.  , 62.  ,  0.  , 58.  ,  1.  ,  2.  , 53.  ,  0.  ,  0.  ,\n",
       "        89.  ,  1.  , 60.22],\n",
       "       [ 1.  , 53.  ,  0.  , 63.  ,  1.  ,  2.  , 60.  ,  0.  ,  1.  ,\n",
       "        70.  ,  0.  , 53.2 ],\n",
       "       [ 1.  , 84.  ,  1.  , 90.9 ,  1.  ,  2.  , 64.5 ,  2.  ,  0.  ,\n",
       "        86.04,  0.  , 59.42],\n",
       "       [ 1.  , 54.  ,  0.  , 82.  ,  1.  ,  1.  , 63.  ,  2.  ,  0.  ,\n",
       "        50.  ,  0.  , 59.47],\n",
       "       [ 0.  , 66.  ,  0.  , 62.  ,  0.  ,  1.  , 73.  ,  0.  ,  0.  ,\n",
       "        58.  ,  1.  , 64.36]])"
      ]
     },
     "execution_count": 115,
     "metadata": {},
     "output_type": "execute_result"
    }
   ],
   "source": [
    "x_test"
   ]
  },
  {
   "cell_type": "code",
   "execution_count": 116,
   "metadata": {},
   "outputs": [
    {
     "data": {
      "text/plain": [
       "array([1, 1, 0, 1, 0, 1, 1, 1, 1, 0, 1, 1, 0, 1, 0, 1, 1, 0, 1, 1, 1, 1,\n",
       "       1, 0, 0, 1, 1, 1, 1, 1, 0, 0, 0, 1, 0, 1, 0, 1, 0, 1, 1, 0, 1, 1,\n",
       "       1, 1, 1, 1, 1, 0, 1, 1, 0, 1])"
      ]
     },
     "execution_count": 116,
     "metadata": {},
     "output_type": "execute_result"
    }
   ],
   "source": [
    "y_test"
   ]
  },
  {
   "cell_type": "code",
   "execution_count": 117,
   "metadata": {},
   "outputs": [
    {
     "data": {
      "text/plain": [
       "array([0, 1, 0, 1, 1, 1, 1, 1, 1, 1, 0, 1, 1, 1, 0, 1, 1, 1, 1, 1, 1, 1,\n",
       "       0, 0, 0, 0, 0, 1, 1, 1, 1, 1, 1, 1, 1, 0, 1, 0, 1, 0, 1, 1, 1, 1,\n",
       "       1, 1, 1, 1, 1, 1, 0, 0, 0, 1, 0, 1, 1, 0, 0, 1, 0, 1, 0, 1, 1, 0,\n",
       "       0, 1, 0, 1, 1, 1, 1, 1, 0, 1, 0, 1, 1, 0, 0, 1, 1, 0, 0, 1, 1, 1,\n",
       "       0, 1, 0, 0, 1, 1, 1, 0, 1, 1, 1, 1, 0, 0, 1, 1, 0, 1, 0, 1, 0, 1,\n",
       "       1, 1, 1, 0, 0, 0, 0, 1, 1, 1, 1, 0, 1, 0, 1, 1, 1, 1, 1, 1, 1, 0,\n",
       "       1, 1, 0, 1, 1, 0, 1, 1, 1, 1, 1, 1, 1, 1, 1, 0, 1, 1, 1, 1, 0, 1,\n",
       "       0, 1, 1, 1, 1, 1, 1])"
      ]
     },
     "execution_count": 117,
     "metadata": {},
     "output_type": "execute_result"
    }
   ],
   "source": [
    "y_train"
   ]
  },
  {
   "cell_type": "code",
   "execution_count": 118,
   "metadata": {},
   "outputs": [
    {
     "data": {
      "text/html": [
       "<div>\n",
       "<style scoped>\n",
       "    .dataframe tbody tr th:only-of-type {\n",
       "        vertical-align: middle;\n",
       "    }\n",
       "\n",
       "    .dataframe tbody tr th {\n",
       "        vertical-align: top;\n",
       "    }\n",
       "\n",
       "    .dataframe thead th {\n",
       "        text-align: right;\n",
       "    }\n",
       "</style>\n",
       "<table border=\"1\" class=\"dataframe\">\n",
       "  <thead>\n",
       "    <tr style=\"text-align: right;\">\n",
       "      <th></th>\n",
       "      <th>sl_no</th>\n",
       "      <th>gender</th>\n",
       "      <th>ssc_p</th>\n",
       "      <th>ssc_b</th>\n",
       "      <th>hsc_p</th>\n",
       "      <th>hsc_b</th>\n",
       "      <th>hsc_s</th>\n",
       "      <th>degree_p</th>\n",
       "      <th>degree_t</th>\n",
       "      <th>workex</th>\n",
       "      <th>etest_p</th>\n",
       "      <th>specialisation</th>\n",
       "      <th>mba_p</th>\n",
       "      <th>status</th>\n",
       "      <th>salary</th>\n",
       "    </tr>\n",
       "  </thead>\n",
       "  <tbody>\n",
       "    <tr>\n",
       "      <th>0</th>\n",
       "      <td>1</td>\n",
       "      <td>1</td>\n",
       "      <td>67.00</td>\n",
       "      <td>1</td>\n",
       "      <td>91.00</td>\n",
       "      <td>1</td>\n",
       "      <td>1</td>\n",
       "      <td>58.00</td>\n",
       "      <td>2</td>\n",
       "      <td>0</td>\n",
       "      <td>55.0</td>\n",
       "      <td>1</td>\n",
       "      <td>58.80</td>\n",
       "      <td>1</td>\n",
       "      <td>270000.0</td>\n",
       "    </tr>\n",
       "    <tr>\n",
       "      <th>1</th>\n",
       "      <td>2</td>\n",
       "      <td>1</td>\n",
       "      <td>79.33</td>\n",
       "      <td>0</td>\n",
       "      <td>78.33</td>\n",
       "      <td>1</td>\n",
       "      <td>2</td>\n",
       "      <td>77.48</td>\n",
       "      <td>2</td>\n",
       "      <td>1</td>\n",
       "      <td>86.5</td>\n",
       "      <td>0</td>\n",
       "      <td>66.28</td>\n",
       "      <td>1</td>\n",
       "      <td>200000.0</td>\n",
       "    </tr>\n",
       "    <tr>\n",
       "      <th>2</th>\n",
       "      <td>3</td>\n",
       "      <td>1</td>\n",
       "      <td>65.00</td>\n",
       "      <td>0</td>\n",
       "      <td>68.00</td>\n",
       "      <td>0</td>\n",
       "      <td>0</td>\n",
       "      <td>64.00</td>\n",
       "      <td>0</td>\n",
       "      <td>0</td>\n",
       "      <td>75.0</td>\n",
       "      <td>0</td>\n",
       "      <td>57.80</td>\n",
       "      <td>1</td>\n",
       "      <td>250000.0</td>\n",
       "    </tr>\n",
       "    <tr>\n",
       "      <th>3</th>\n",
       "      <td>4</td>\n",
       "      <td>1</td>\n",
       "      <td>56.00</td>\n",
       "      <td>0</td>\n",
       "      <td>52.00</td>\n",
       "      <td>0</td>\n",
       "      <td>2</td>\n",
       "      <td>52.00</td>\n",
       "      <td>2</td>\n",
       "      <td>0</td>\n",
       "      <td>66.0</td>\n",
       "      <td>1</td>\n",
       "      <td>59.43</td>\n",
       "      <td>0</td>\n",
       "      <td>NaN</td>\n",
       "    </tr>\n",
       "    <tr>\n",
       "      <th>4</th>\n",
       "      <td>5</td>\n",
       "      <td>1</td>\n",
       "      <td>85.80</td>\n",
       "      <td>0</td>\n",
       "      <td>73.60</td>\n",
       "      <td>0</td>\n",
       "      <td>1</td>\n",
       "      <td>73.30</td>\n",
       "      <td>0</td>\n",
       "      <td>0</td>\n",
       "      <td>96.8</td>\n",
       "      <td>0</td>\n",
       "      <td>55.50</td>\n",
       "      <td>1</td>\n",
       "      <td>425000.0</td>\n",
       "    </tr>\n",
       "  </tbody>\n",
       "</table>\n",
       "</div>"
      ],
      "text/plain": [
       "   sl_no  gender  ssc_p  ssc_b  hsc_p  hsc_b  hsc_s  degree_p  degree_t  \\\n",
       "0      1       1  67.00      1  91.00      1      1     58.00         2   \n",
       "1      2       1  79.33      0  78.33      1      2     77.48         2   \n",
       "2      3       1  65.00      0  68.00      0      0     64.00         0   \n",
       "3      4       1  56.00      0  52.00      0      2     52.00         2   \n",
       "4      5       1  85.80      0  73.60      0      1     73.30         0   \n",
       "\n",
       "   workex  etest_p  specialisation  mba_p  status    salary  \n",
       "0       0     55.0               1  58.80       1  270000.0  \n",
       "1       1     86.5               0  66.28       1  200000.0  \n",
       "2       0     75.0               0  57.80       1  250000.0  \n",
       "3       0     66.0               1  59.43       0       NaN  \n",
       "4       0     96.8               0  55.50       1  425000.0  "
      ]
     },
     "execution_count": 118,
     "metadata": {},
     "output_type": "execute_result"
    }
   ],
   "source": [
    "dataset.head()"
   ]
  },
  {
   "cell_type": "code",
   "execution_count": 119,
   "metadata": {},
   "outputs": [
    {
     "data": {
      "text/plain": [
       "LogisticRegression(C=1.0, class_weight=None, dual=False, fit_intercept=True,\n",
       "                   intercept_scaling=1, l1_ratio=None, max_iter=1000,\n",
       "                   multi_class='auto', n_jobs=None, penalty='l2',\n",
       "                   random_state=0, solver='lbfgs', tol=0.0001, verbose=0,\n",
       "                   warm_start=False)"
      ]
     },
     "execution_count": 119,
     "metadata": {},
     "output_type": "execute_result"
    }
   ],
   "source": [
    "from sklearn.linear_model import LogisticRegression\n",
    "classifier = LogisticRegression(C=1.0, class_weight=None, dual=False, fit_intercept=True,\n",
    "                   intercept_scaling=1, l1_ratio=None, max_iter=1000,\n",
    "                   multi_class='auto', n_jobs=None, penalty='l2',\n",
    "                   random_state=0, solver='lbfgs', tol=0.0001, verbose=0,\n",
    "                   warm_start=False)\n",
    "classifier.fit(x_train, y_train)"
   ]
  },
  {
   "cell_type": "code",
   "execution_count": 120,
   "metadata": {},
   "outputs": [
    {
     "name": "stdout",
     "output_type": "stream",
     "text": [
      "[1]\n"
     ]
    }
   ],
   "source": [
    "print(classifier.predict(([[1,67,1,91,1,1,58,2,0,55,1,58]])))"
   ]
  },
  {
   "cell_type": "code",
   "execution_count": 121,
   "metadata": {},
   "outputs": [],
   "source": [
    "y_pred = classifier.predict(x_test)"
   ]
  },
  {
   "cell_type": "code",
   "execution_count": 122,
   "metadata": {},
   "outputs": [
    {
     "data": {
      "text/plain": [
       "array([1, 1, 0, 1, 0, 1, 1, 1, 1, 0, 1, 1, 0, 1, 0, 1, 1, 1, 1, 1, 1, 1,\n",
       "       1, 0, 1, 1, 1, 1, 0, 1, 0, 0, 0, 1, 1, 1, 0, 1, 1, 1, 1, 0, 1, 1,\n",
       "       1, 1, 1, 1, 1, 0, 1, 1, 1, 1])"
      ]
     },
     "execution_count": 122,
     "metadata": {},
     "output_type": "execute_result"
    }
   ],
   "source": [
    "y_pred"
   ]
  },
  {
   "cell_type": "code",
   "execution_count": 123,
   "metadata": {},
   "outputs": [
    {
     "name": "stdout",
     "output_type": "stream",
     "text": [
      "[[12  5]\n",
      " [ 1 36]]\n"
     ]
    },
    {
     "data": {
      "text/plain": [
       "0.8888888888888888"
      ]
     },
     "execution_count": 123,
     "metadata": {},
     "output_type": "execute_result"
    }
   ],
   "source": [
    "from sklearn.metrics import confusion_matrix, accuracy_score\n",
    "cm = confusion_matrix(y_test, y_pred)\n",
    "print(cm)\n",
    "accuracy_score(y_test, y_pred)"
   ]
  },
  {
   "cell_type": "code",
   "execution_count": null,
   "metadata": {},
   "outputs": [],
   "source": []
  }
 ],
 "metadata": {
  "kernelspec": {
   "display_name": "Python 3",
   "language": "python",
   "name": "python3"
  },
  "language_info": {
   "codemirror_mode": {
    "name": "ipython",
    "version": 3
   },
   "file_extension": ".py",
   "mimetype": "text/x-python",
   "name": "python",
   "nbconvert_exporter": "python",
   "pygments_lexer": "ipython3",
   "version": "3.7.6"
  }
 },
 "nbformat": 4,
 "nbformat_minor": 4
}
